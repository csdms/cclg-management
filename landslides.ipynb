{
 "cells": [
  {
   "cell_type": "markdown",
   "id": "9a32553f-555b-4c4b-930f-fa15e3d61dde",
   "metadata": {},
   "source": [
    "# CICESEG Landslide Modeling Portal\n",
    "\n",
    "<img align=\"right\" style=\"margin:0 0 20px 20px\" width=\"35%\" height=\"35%\" alt=\"CICESEG\" src=\"https://raw.githubusercontent.com/csdms/ciceseg-management/main/ciceseg-logo-transparent.png\">\n",
    "\n",
    "Welcome to the Collaborative Center for Landslides and Ground Failure Geohazards (CICESEG) Landslide Modeling Portal.\n",
    "\n",
    "Here, you can quickly run a model\n",
    "from a set of Jupyter Notebook examples\n",
    "or explore on your own\n",
    "through a catalog of pre-installed models.\n",
    "\n",
    "This site is freely available for anyone who wishes to study landslides using numerical models.\n",
    "\n",
    "If you have any questions about using the CICESEG Landslide Modeling Portal, please contact us\n",
    "through the [CSDMS Help Desk](https://csdms.github.io/help-desk)."
   ]
  },
  {
   "cell_type": "markdown",
   "id": "4db9d6e2-c31e-4330-b3b0-dd61bff8bb3f",
   "metadata": {},
   "source": [
    "## Model catalog\n",
    "\n",
    "Several numerical models for studying landslides have been installed in the Landslide Modeling Portal.\n",
    "We provide a list of these models here, along with an explanation of each.\n",
    "\n",
    "* Model X\n",
    "* Model Y\n",
    "* Model Z"
   ]
  },
  {
   "cell_type": "markdown",
   "id": "b383320c-7ab0-4464-9404-6957aabe39c7",
   "metadata": {},
   "source": [
    "## Example notebooks\n",
    "\n",
    "You can run the following example notebooks through the Landslide Modeling Portal.\n",
    "\n",
    "### Bedrock landslides\n",
    "\n",
    "* [Bedrock landslides on existing topography (SRTM DEM)](https://landslides.openearthscape.org/hub/user-redirect/git-pull?repo=https%3A%2F%2Fgithub.com%2FBCampforts%2Fhylands_modeling&urlpath=tree%2Fhylands_modeling%2Ftutorials%2Fhylands_real%2FbedrockLandslides_on_DEMs.ipynb&branch=master)\n",
    "\n",
    "### Large scale landscape evolution models\n",
    "\n",
    "* [Large scale landscape evolution using real topography](https://landslides.openearthscape.org/hub/user-redirect/git-pull?repo=https%3A%2F%2Fgithub.com%2FBCampforts%2Fhylands_modeling&urlpath=tree%2Fhylands_modeling%2Ftutorials%2Flarge_scale_LEM%2Flarge_scale_LEMs-real-topography.ipynb&branch=master)\n",
    "* [Large scale landscape evolution](https://landslides.openearthscape.org/hub/user-redirect/git-pull?repo=https%3A%2F%2Fgithub.com%2FBCampforts%2Fhylands_modeling&urlpath=tree%2Fhylands_modeling%2Ftutorials%2Flarge_scale_LEM%2Flarge_scale_LEMs.ipynb&branch=master)\n",
    "\n",
    "### HyLands (Hybrid Landscape evolution model)\n",
    "\n",
    "* [HyLands tutorial](https://landslides.openearthscape.org/hub/user-redirect/git-pull?repo=https%3A%2F%2Fgithub.com%2FBCampforts%2Fhylands_modeling&urlpath=tree%2Fhylands_modeling%2Ftutorials%2Fhylands_LEM%2FHyLandsTutorial.ipynb&branch=master)\n"
   ]
  },
  {
   "cell_type": "markdown",
   "id": "55ef17b0-cb40-44e8-8d74-9886ef041c31",
   "metadata": {},
   "source": [
    "## Acknowledgments\n",
    "\n",
    "CICESEG, CSDMS, and OpenEarthscape are supported by the U.S. National Science\n",
    "Foundation."
   ]
  }
 ],
 "metadata": {
  "kernelspec": {
   "display_name": "Python 3 (ipykernel)",
   "language": "python",
   "name": "python3"
  },
  "language_info": {
   "codemirror_mode": {
    "name": "ipython",
    "version": 3
   },
   "file_extension": ".py",
   "mimetype": "text/x-python",
   "name": "python",
   "nbconvert_exporter": "python",
   "pygments_lexer": "ipython3",
   "version": "3.9.13"
  }
 },
 "nbformat": 4,
 "nbformat_minor": 5
}
